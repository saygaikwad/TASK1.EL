{
 "cells": [
  {
   "cell_type": "code",
   "execution_count": null,
   "id": "c4615f68-eb41-47c4-8531-4d5328c4aeed",
   "metadata": {},
   "outputs": [],
   "source": [
    "NETFLIX DATASET CLEANING & PREPROCESSING"
   ]
  },
  {
   "cell_type": "code",
   "execution_count": 10,
   "id": "b032d72e-2422-4420-b888-4e47a7be01dc",
   "metadata": {},
   "outputs": [],
   "source": [
    "import pandas as pd"
   ]
  },
  {
   "cell_type": "code",
   "execution_count": 11,
   "id": "12435e21-04c2-4eee-a845-e527f945c85b",
   "metadata": {},
   "outputs": [],
   "source": [
    "df = pd.read_csv(\"netflix_titles.csv\")"
   ]
  },
  {
   "cell_type": "code",
   "execution_count": 12,
   "id": "229ad5e6-e963-4ac0-915e-cb28b0bbdc5b",
   "metadata": {},
   "outputs": [],
   "source": [
    "df['director'] = df['director'].fillna('Unknown')\n",
    "df['cast'] = df['cast'].fillna('Unknown')\n",
    "df['country'] = df['country'].fillna('Unknown')"
   ]
  },
  {
   "cell_type": "code",
   "execution_count": 13,
   "id": "cf62cedf-513f-48e5-a762-3d9c09ba501a",
   "metadata": {},
   "outputs": [],
   "source": [
    "df = df.dropna(subset=['rating', 'duration', 'date_added'])"
   ]
  },
  {
   "cell_type": "code",
   "execution_count": 14,
   "id": "68e1e9f9-6760-4dd7-8d52-8606c823bd9e",
   "metadata": {},
   "outputs": [],
   "source": [
    "df = df.drop_duplicates()\n"
   ]
  },
  {
   "cell_type": "code",
   "execution_count": 15,
   "id": "fb8e48f9-1919-468e-958b-15d041dc1d77",
   "metadata": {},
   "outputs": [],
   "source": [
    "df = df.apply(lambda x: x.str.strip().str.lower() if x.dtype == 'object' else x)"
   ]
  },
  {
   "cell_type": "code",
   "execution_count": 16,
   "id": "5518f1f7-278a-49ca-b555-ab1f6abae782",
   "metadata": {},
   "outputs": [],
   "source": [
    "df['date_added'] = pd.to_datetime(df['date_added'], format='%B %d, %Y', errors='coerce')\n"
   ]
  },
  {
   "cell_type": "code",
   "execution_count": 17,
   "id": "04e7013d-aebd-4b34-8228-ae8c3f54704f",
   "metadata": {},
   "outputs": [],
   "source": [
    "df.columns = df.columns.str.strip().str.lower().str.replace(\" \", \"_\")\n"
   ]
  },
  {
   "cell_type": "code",
   "execution_count": 18,
   "id": "44195724-f0fd-4570-95d5-b17a8e6dfa8a",
   "metadata": {},
   "outputs": [],
   "source": [
    "df['release_year'] = df['release_year'].astype(int)"
   ]
  },
  {
   "cell_type": "code",
   "execution_count": 19,
   "id": "6e28dd49-6821-4fd8-a9f0-3607a63ef8e0",
   "metadata": {},
   "outputs": [],
   "source": [
    "df.to_csv(\"netflix_cleaned.csv\", index=False)\n"
   ]
  },
  {
   "cell_type": "code",
   "execution_count": 20,
   "id": "79b2539b-fbda-46d9-84f8-4ffc2ff4e941",
   "metadata": {},
   "outputs": [
    {
     "data": {
      "text/html": [
       "<div>\n",
       "<style scoped>\n",
       "    .dataframe tbody tr th:only-of-type {\n",
       "        vertical-align: middle;\n",
       "    }\n",
       "\n",
       "    .dataframe tbody tr th {\n",
       "        vertical-align: top;\n",
       "    }\n",
       "\n",
       "    .dataframe thead th {\n",
       "        text-align: right;\n",
       "    }\n",
       "</style>\n",
       "<table border=\"1\" class=\"dataframe\">\n",
       "  <thead>\n",
       "    <tr style=\"text-align: right;\">\n",
       "      <th></th>\n",
       "      <th>show_id</th>\n",
       "      <th>type</th>\n",
       "      <th>title</th>\n",
       "      <th>director</th>\n",
       "      <th>cast</th>\n",
       "      <th>country</th>\n",
       "      <th>date_added</th>\n",
       "      <th>release_year</th>\n",
       "      <th>rating</th>\n",
       "      <th>duration</th>\n",
       "      <th>listed_in</th>\n",
       "      <th>description</th>\n",
       "    </tr>\n",
       "  </thead>\n",
       "  <tbody>\n",
       "    <tr>\n",
       "      <th>0</th>\n",
       "      <td>s1</td>\n",
       "      <td>movie</td>\n",
       "      <td>dick johnson is dead</td>\n",
       "      <td>kirsten johnson</td>\n",
       "      <td>unknown</td>\n",
       "      <td>united states</td>\n",
       "      <td>2021-09-25</td>\n",
       "      <td>2020</td>\n",
       "      <td>pg-13</td>\n",
       "      <td>90 min</td>\n",
       "      <td>documentaries</td>\n",
       "      <td>as her father nears the end of his life, filmm...</td>\n",
       "    </tr>\n",
       "    <tr>\n",
       "      <th>1</th>\n",
       "      <td>s2</td>\n",
       "      <td>tv show</td>\n",
       "      <td>blood &amp; water</td>\n",
       "      <td>unknown</td>\n",
       "      <td>ama qamata, khosi ngema, gail mabalane, thaban...</td>\n",
       "      <td>south africa</td>\n",
       "      <td>2021-09-24</td>\n",
       "      <td>2021</td>\n",
       "      <td>tv-ma</td>\n",
       "      <td>2 seasons</td>\n",
       "      <td>international tv shows, tv dramas, tv mysteries</td>\n",
       "      <td>after crossing paths at a party, a cape town t...</td>\n",
       "    </tr>\n",
       "    <tr>\n",
       "      <th>2</th>\n",
       "      <td>s3</td>\n",
       "      <td>tv show</td>\n",
       "      <td>ganglands</td>\n",
       "      <td>julien leclercq</td>\n",
       "      <td>sami bouajila, tracy gotoas, samuel jouy, nabi...</td>\n",
       "      <td>unknown</td>\n",
       "      <td>2021-09-24</td>\n",
       "      <td>2021</td>\n",
       "      <td>tv-ma</td>\n",
       "      <td>1 season</td>\n",
       "      <td>crime tv shows, international tv shows, tv act...</td>\n",
       "      <td>to protect his family from a powerful drug lor...</td>\n",
       "    </tr>\n",
       "    <tr>\n",
       "      <th>3</th>\n",
       "      <td>s4</td>\n",
       "      <td>tv show</td>\n",
       "      <td>jailbirds new orleans</td>\n",
       "      <td>unknown</td>\n",
       "      <td>unknown</td>\n",
       "      <td>unknown</td>\n",
       "      <td>2021-09-24</td>\n",
       "      <td>2021</td>\n",
       "      <td>tv-ma</td>\n",
       "      <td>1 season</td>\n",
       "      <td>docuseries, reality tv</td>\n",
       "      <td>feuds, flirtations and toilet talk go down amo...</td>\n",
       "    </tr>\n",
       "    <tr>\n",
       "      <th>4</th>\n",
       "      <td>s5</td>\n",
       "      <td>tv show</td>\n",
       "      <td>kota factory</td>\n",
       "      <td>unknown</td>\n",
       "      <td>mayur more, jitendra kumar, ranjan raj, alam k...</td>\n",
       "      <td>india</td>\n",
       "      <td>2021-09-24</td>\n",
       "      <td>2021</td>\n",
       "      <td>tv-ma</td>\n",
       "      <td>2 seasons</td>\n",
       "      <td>international tv shows, romantic tv shows, tv ...</td>\n",
       "      <td>in a city of coaching centers known to train i...</td>\n",
       "    </tr>\n",
       "  </tbody>\n",
       "</table>\n",
       "</div>"
      ],
      "text/plain": [
       "  show_id     type                  title         director  \\\n",
       "0      s1    movie   dick johnson is dead  kirsten johnson   \n",
       "1      s2  tv show          blood & water          unknown   \n",
       "2      s3  tv show              ganglands  julien leclercq   \n",
       "3      s4  tv show  jailbirds new orleans          unknown   \n",
       "4      s5  tv show           kota factory          unknown   \n",
       "\n",
       "                                                cast        country  \\\n",
       "0                                            unknown  united states   \n",
       "1  ama qamata, khosi ngema, gail mabalane, thaban...   south africa   \n",
       "2  sami bouajila, tracy gotoas, samuel jouy, nabi...        unknown   \n",
       "3                                            unknown        unknown   \n",
       "4  mayur more, jitendra kumar, ranjan raj, alam k...          india   \n",
       "\n",
       "  date_added  release_year rating   duration  \\\n",
       "0 2021-09-25          2020  pg-13     90 min   \n",
       "1 2021-09-24          2021  tv-ma  2 seasons   \n",
       "2 2021-09-24          2021  tv-ma   1 season   \n",
       "3 2021-09-24          2021  tv-ma   1 season   \n",
       "4 2021-09-24          2021  tv-ma  2 seasons   \n",
       "\n",
       "                                           listed_in  \\\n",
       "0                                      documentaries   \n",
       "1    international tv shows, tv dramas, tv mysteries   \n",
       "2  crime tv shows, international tv shows, tv act...   \n",
       "3                             docuseries, reality tv   \n",
       "4  international tv shows, romantic tv shows, tv ...   \n",
       "\n",
       "                                         description  \n",
       "0  as her father nears the end of his life, filmm...  \n",
       "1  after crossing paths at a party, a cape town t...  \n",
       "2  to protect his family from a powerful drug lor...  \n",
       "3  feuds, flirtations and toilet talk go down amo...  \n",
       "4  in a city of coaching centers known to train i...  "
      ]
     },
     "execution_count": 20,
     "metadata": {},
     "output_type": "execute_result"
    }
   ],
   "source": [
    "df.head()\n"
   ]
  },
  {
   "cell_type": "code",
   "execution_count": 21,
   "id": "2430d5dd-a0c3-49c1-8504-5c5f17b03916",
   "metadata": {},
   "outputs": [
    {
     "data": {
      "text/plain": [
       "show_id                 object\n",
       "type                    object\n",
       "title                   object\n",
       "director                object\n",
       "cast                    object\n",
       "country                 object\n",
       "date_added      datetime64[ns]\n",
       "release_year             int32\n",
       "rating                  object\n",
       "duration                object\n",
       "listed_in               object\n",
       "description             object\n",
       "dtype: object"
      ]
     },
     "execution_count": 21,
     "metadata": {},
     "output_type": "execute_result"
    }
   ],
   "source": [
    "df.dtypes\n"
   ]
  },
  {
   "cell_type": "code",
   "execution_count": 22,
   "id": "26808e61-eda8-428b-bcad-ddbf01ed1b3a",
   "metadata": {},
   "outputs": [
    {
     "data": {
      "text/plain": [
       "show_id         0\n",
       "type            0\n",
       "title           0\n",
       "director        0\n",
       "cast            0\n",
       "country         0\n",
       "date_added      0\n",
       "release_year    0\n",
       "rating          0\n",
       "duration        0\n",
       "listed_in       0\n",
       "description     0\n",
       "dtype: int64"
      ]
     },
     "execution_count": 22,
     "metadata": {},
     "output_type": "execute_result"
    }
   ],
   "source": [
    "df.isnull().sum()\n"
   ]
  },
  {
   "cell_type": "code",
   "execution_count": 23,
   "id": "8297b751-d4bf-41f8-bd6d-02f3f9273088",
   "metadata": {},
   "outputs": [
    {
     "name": "stdout",
     "output_type": "stream",
     "text": [
      "<class 'pandas.core.frame.DataFrame'>\n",
      "Index: 8790 entries, 0 to 8806\n",
      "Data columns (total 12 columns):\n",
      " #   Column        Non-Null Count  Dtype         \n",
      "---  ------        --------------  -----         \n",
      " 0   show_id       8790 non-null   object        \n",
      " 1   type          8790 non-null   object        \n",
      " 2   title         8790 non-null   object        \n",
      " 3   director      8790 non-null   object        \n",
      " 4   cast          8790 non-null   object        \n",
      " 5   country       8790 non-null   object        \n",
      " 6   date_added    8790 non-null   datetime64[ns]\n",
      " 7   release_year  8790 non-null   int32         \n",
      " 8   rating        8790 non-null   object        \n",
      " 9   duration      8790 non-null   object        \n",
      " 10  listed_in     8790 non-null   object        \n",
      " 11  description   8790 non-null   object        \n",
      "dtypes: datetime64[ns](1), int32(1), object(10)\n",
      "memory usage: 858.4+ KB\n"
     ]
    }
   ],
   "source": [
    "df.info()\n"
   ]
  },
  {
   "cell_type": "code",
   "execution_count": 26,
   "id": "2385deba-6f1e-41ef-a5a7-8a2f886df659",
   "metadata": {},
   "outputs": [],
   "source": [
    "import os\n",
    "os.path.exists(\"netflix_cleaned.csv\") \n",
    "df.to_csv(r\"C:\\Users\\sayal\\Downloads\\netflix_cleaned.csv\", index=False)\n",
    "\n"
   ]
  },
  {
   "cell_type": "code",
   "execution_count": 27,
   "id": "c4558056-74c0-44f1-b231-6c9b419e92d8",
   "metadata": {},
   "outputs": [
    {
     "name": "stdout",
     "output_type": "stream",
     "text": [
      "Cleaning complete. Cleaned data saved as 'netflix_cleaned.csv'\n"
     ]
    }
   ],
   "source": [
    "print(\"Cleaning complete. Cleaned data saved as 'netflix_cleaned.csv'\")\n"
   ]
  }
 ],
 "metadata": {
  "kernelspec": {
   "display_name": "Python 3 (ipykernel)",
   "language": "python",
   "name": "python3"
  },
  "language_info": {
   "codemirror_mode": {
    "name": "ipython",
    "version": 3
   },
   "file_extension": ".py",
   "mimetype": "text/x-python",
   "name": "python",
   "nbconvert_exporter": "python",
   "pygments_lexer": "ipython3",
   "version": "3.12.5"
  }
 },
 "nbformat": 4,
 "nbformat_minor": 5
}
